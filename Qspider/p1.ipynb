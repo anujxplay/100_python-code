{
 "cells": [
  {
   "cell_type": "code",
   "execution_count": 1,
   "id": "84b735b6",
   "metadata": {},
   "outputs": [
    {
     "name": "stdout",
     "output_type": "stream",
     "text": [
      "1\n",
      "2\n",
      "3\n"
     ]
    }
   ],
   "source": [
    "# 1.Wap to print n natural numbers\n",
    "n=int(input(\"Enter The int num:\"))\n",
    "i=1\n",
    "while i<=n:\n",
    "    print(i)\n",
    "    i+=1"
   ]
  },
  {
   "cell_type": "code",
   "execution_count": 2,
   "id": "52a4bf23",
   "metadata": {},
   "outputs": [
    {
     "name": "stdout",
     "output_type": "stream",
     "text": [
      "3\n",
      "2\n",
      "1\n"
     ]
    }
   ],
   "source": [
    "# 2.Wap to print n natural numbers in reverse order.\n",
    "n=int(input(\"Enter The int num:\"))\n",
    "while n>0:\n",
    "    print(n)\n",
    "    n-=1\n",
    "\n"
   ]
  },
  {
   "cell_type": "code",
   "execution_count": 3,
   "id": "e6213164",
   "metadata": {},
   "outputs": [
    {
     "name": "stdout",
     "output_type": "stream",
     "text": [
      "1\n",
      "2\n"
     ]
    }
   ],
   "source": [
    "# 3.Wap to print natural numbers in a given range\n",
    "start = int(input(\"Enter The start num:\"))\n",
    "end = int(input(\"Enter The end num:\"))\n",
    "while start<=end:\n",
    "    print(start)\n",
    "    start+=1\n",
    "\n",
    "\n"
   ]
  },
  {
   "cell_type": "code",
   "execution_count": 4,
   "id": "94debac4",
   "metadata": {},
   "outputs": [
    {
     "name": "stdout",
     "output_type": "stream",
     "text": [
      "1 === 23\n",
      "2 === 23\n",
      "3 === 23\n",
      "4 === 23\n",
      "5 === 23\n",
      "6 === 23\n",
      "7 === 23\n",
      "8 === 23\n",
      "9 === 23\n",
      "10 === 23\n"
     ]
    }
   ],
   "source": [
    "# 4.Wap to print user name 10 times\n",
    "user=input(\"Enter The user name:\")\n",
    "i=1\n",
    "while i<=10:\n",
    "    print(i,'===',user)\n",
    "    i+=1\n"
   ]
  },
  {
   "cell_type": "code",
   "execution_count": null,
   "id": "6e895c50",
   "metadata": {},
   "outputs": [
    {
     "name": "stdout",
     "output_type": "stream",
     "text": [
      "23 * 1 = 23\n",
      "23 * 2 = 46\n",
      "23 * 3 = 69\n",
      "23 * 4 = 92\n",
      "23 * 5 = 115\n",
      "23 * 6 = 138\n",
      "23 * 7 = 161\n",
      "23 * 8 = 184\n",
      "23 * 9 = 207\n",
      "23 * 10 = 230\n"
     ]
    }
   ],
   "source": [
    "# 5.Wap to print the multiplication table.\n",
    "num=int(input(\"Enter The int num:\"))\n",
    "i=1\n",
    "while i<=10:\n",
    "    print(num,\"*\",i,\"=\",num*i)\n",
    "    i+=1\n"
   ]
  },
  {
   "cell_type": "code",
   "execution_count": 5,
   "id": "91e34c6e",
   "metadata": {},
   "outputs": [
    {
     "name": "stdout",
     "output_type": "stream",
     "text": [
      "2\n",
      "4\n",
      "6\n"
     ]
    }
   ],
   "source": [
    "# 6.Wap to print n natural even numbers.\n",
    "n=int(input(\"Enter The int num:\"))\n",
    "i=1\n",
    "while i<=n:\n",
    "    if i%2==0:\n",
    "        print(i)\n",
    "    i+=1\n",
    "\n"
   ]
  },
  {
   "cell_type": "code",
   "execution_count": 6,
   "id": "84f6d67d",
   "metadata": {},
   "outputs": [
    {
     "name": "stdout",
     "output_type": "stream",
     "text": [
      "1\n",
      "3\n",
      "5\n",
      "7\n",
      "9\n"
     ]
    }
   ],
   "source": [
    "# 7.Wap to print n natural odd numbers.\n",
    "\n",
    "\n",
    "n = int(input(\"Enter how many odd numbers you want: \"))\n",
    "i = 1\n",
    "count = 1\n",
    "while count <= n:\n",
    "    print(i)\n",
    "    count += 1\n",
    "    i+=2\n",
    "\n"
   ]
  },
  {
   "cell_type": "code",
   "execution_count": 7,
   "id": "43574e75",
   "metadata": {},
   "outputs": [
    {
     "name": "stdout",
     "output_type": "stream",
     "text": [
      "1\n",
      "2\n",
      "3\n",
      "4\n",
      "5\n",
      "6\n",
      "7\n",
      "8\n",
      "9\n",
      "11\n"
     ]
    }
   ],
   "source": [
    "# 8.Wap to print n natural palindrome numbers\n",
    "n = int(input(\"Enter Number: \"))\n",
    "i=1\n",
    "count=0\n",
    "while count<=n:\n",
    "    a=str(i)\n",
    "    if a==a[::-1]:\n",
    "        print(i)\n",
    "    count+=1\n",
    "    i+=1"
   ]
  },
  {
   "cell_type": "code",
   "execution_count": 8,
   "id": "b280af91",
   "metadata": {},
   "outputs": [
    {
     "name": "stdout",
     "output_type": "stream",
     "text": [
      "The Sum is : 45\n"
     ]
    }
   ],
   "source": [
    "# 9.Wap to print the sum of n natural number\n",
    "n=int(input(\"Enter The int num:\"))\n",
    "i=1\n",
    "sum=0\n",
    "while i<=n:\n",
    "    sum+=i\n",
    "    i+=1\n",
    "print(\"The Sum is :\",sum)\n",
    "\n"
   ]
  },
  {
   "cell_type": "code",
   "execution_count": 9,
   "id": "ad519f55",
   "metadata": {},
   "outputs": [
    {
     "name": "stdout",
     "output_type": "stream",
     "text": [
      "The Product of n natural numbers  are : 720\n"
     ]
    }
   ],
   "source": [
    "# 10.Wap to print product of n natural numbers.\n",
    "\n",
    "n=int(input(\"Enter The int num:\"))\n",
    "i=1\n",
    "pro=1\n",
    "while i<=n:\n",
    "    pro*=i\n",
    "    i+=1\n",
    "print(\"The Product of n natural numbers  are :\",pro)"
   ]
  },
  {
   "cell_type": "code",
   "execution_count": 12,
   "id": "c9b62dc6",
   "metadata": {},
   "outputs": [
    {
     "name": "stdout",
     "output_type": "stream",
     "text": [
      "Enter The int num: 12\n"
     ]
    },
    {
     "name": "stdout",
     "output_type": "stream",
     "text": [
      "The factorial is : 479001600\n"
     ]
    }
   ],
   "source": [
    "# 11.Wap to print factorial a number.\n",
    "\n",
    "num=int(input(\"Enter The int num:\"))\n",
    "if num<0:\n",
    "    print(\"Factorial does not exist for negative numbers\")\n",
    "elif num==0 and num==1:\n",
    "    print(\"The factorial of\",num,\"is 1\")\n",
    "else:\n",
    "    fact=1\n",
    "    while num>0:\n",
    "        fact*=num\n",
    "        num-=1\n",
    "print(\"The factorial is :\",fact)\n",
    "\n"
   ]
  },
  {
   "cell_type": "code",
   "execution_count": 27,
   "id": "7540b4d2",
   "metadata": {},
   "outputs": [
    {
     "name": "stdout",
     "output_type": "stream",
     "text": [
      "The digits of the number are:\n",
      "3 2 1 "
     ]
    }
   ],
   "source": [
    "# 12.Wap to print the digits of a number\n",
    "\n",
    "num = int(input(\"Enter a number: \"))\n",
    "print(\"The digits of the number are:\")\n",
    "while num>0:\n",
    "    digits = num % 10\n",
    "    print(digits,end=\" \")\n",
    "    num=num//10\n",
    "    \n"
   ]
  },
  {
   "cell_type": "code",
   "execution_count": 28,
   "id": "5b1bddfc",
   "metadata": {},
   "outputs": [
    {
     "name": "stdout",
     "output_type": "stream",
     "text": [
      "The digits of the number are:\n",
      "The sum of digits is: 6\n"
     ]
    }
   ],
   "source": [
    "# 13.Wap to find the sum of digits of a number.\n",
    "num = int(input(\"Enter a number: \"))\n",
    "print(\"The digits of the number are:\")\n",
    "sum=0\n",
    "while num>0:\n",
    "    digits = num % 10\n",
    "    sum+=digits\n",
    "    num=num//10\n",
    "print(\"The sum of digits is:\",sum)\n"
   ]
  },
  {
   "cell_type": "code",
   "execution_count": null,
   "id": "399756b2",
   "metadata": {},
   "outputs": [
    {
     "name": "stdout",
     "output_type": "stream",
     "text": [
      "The digits of the number are:\n",
      "The product of digits is: 24\n"
     ]
    }
   ],
   "source": [
    "# 14.Wap to find the product of digits of a number.\n",
    "num = int(input(\"Enter a number: \"))\n",
    "\n",
    "product=1\n",
    "while num>0:\n",
    "    digits = num % 10\n",
    "    product*=digits\n",
    "    num=num//10\n",
    "print(\"The product of digits is:\",product)\n"
   ]
  },
  {
   "cell_type": "code",
   "execution_count": 31,
   "id": "6586f25a",
   "metadata": {},
   "outputs": [
    {
     "name": "stdout",
     "output_type": "stream",
     "text": [
      "The digits of the number are:\n",
      "The reverse of the number is: 321\n"
     ]
    }
   ],
   "source": [
    "\n",
    "# 15.Wap to reverse a number without using slicing\n",
    "\n",
    "num = int(input(\"Enter a number: \"))\n",
    "print(\"The digits of the number are:\")\n",
    "rev=0\n",
    "while num>0:\n",
    "    digits = num % 10\n",
    "    rev=rev*10 + digits\n",
    "    num=num//10\n",
    "print(\"The reverse of the number is:\",rev)\n",
    "\n"
   ]
  },
  {
   "cell_type": "code",
   "execution_count": 32,
   "id": "c4291399",
   "metadata": {},
   "outputs": [
    {
     "name": "stdout",
     "output_type": "stream",
     "text": [
      "The digits of the number are:\n",
      "The reverse of the number is: 654\n"
     ]
    }
   ],
   "source": [
    "# 16.Wap to reverse a number without using type casting and slicing.\n",
    "\n",
    "num = int(input(\"Enter a number: \"))\n",
    "print(\"The digits of the number are:\")\n",
    "rev=0\n",
    "while num>0:\n",
    "    digits = num % 10\n",
    "    rev=rev*10 + digits\n",
    "    num=num//10\n",
    "print(\"The reverse of the number is:\",rev)"
   ]
  },
  {
   "cell_type": "code",
   "execution_count": 34,
   "id": "fe31a39b",
   "metadata": {},
   "outputs": [
    {
     "name": "stdout",
     "output_type": "stream",
     "text": [
      "count of zeros in the number is: 0\n"
     ]
    }
   ],
   "source": [
    "# 17.Wap to count the no. of zeros present in a number\n",
    "num = int(input(\"Enter a number: \"))\n",
    "count=0\n",
    "while num>0:\n",
    "    digits= num % 10\n",
    "    if digits==0:\n",
    "        count+=1\n",
    "    num//=10\n",
    "print(\"count of zeros in the number is:\",count)\n",
    "\n"
   ]
  },
  {
   "cell_type": "code",
   "execution_count": 36,
   "id": "d5d8506a",
   "metadata": {},
   "outputs": [
    {
     "name": "stdout",
     "output_type": "stream",
     "text": [
      "Factors of the  12 are:\n",
      "1,2,3,4,6,12,"
     ]
    }
   ],
   "source": [
    "# 18.Wap to print the factors of a number.\n",
    "num=int(input(\"Enter The int num:\"))\n",
    "print(\"Factors of the \",num,\"are:\")\n",
    "i=1\n",
    "while i<=num:\n",
    "    if num%i==0:\n",
    "        print(i,end=\",\")\n",
    "    i+=1\n"
   ]
  },
  {
   "cell_type": "code",
   "execution_count": 38,
   "id": "32c7c01d",
   "metadata": {},
   "outputs": [
    {
     "name": "stdout",
     "output_type": "stream",
     "text": [
      "37 is a prime number\n"
     ]
    }
   ],
   "source": [
    "# 19.Wap check the no. is prime or not\n",
    "num=int(input(\"Enter The int num:\"))\n",
    "if num <=1:\n",
    "    print(num,\"is not a prime number\")\n",
    "else:\n",
    "    i=2\n",
    "    is_prime=True\n",
    "    while i<= num-1:\n",
    "        if num%i==0:\n",
    "            is_prime=False\n",
    "            break\n",
    "        i+=1\n",
    "if is_prime:\n",
    "    print(num,\"is a prime number\")\n",
    "else:\n",
    "    print(num,\"is not a prime number\")\n",
    "\n"
   ]
  },
  {
   "cell_type": "code",
   "execution_count": 39,
   "id": "75d75fb6",
   "metadata": {},
   "outputs": [
    {
     "name": "stdout",
     "output_type": "stream",
     "text": [
      "370 is an Armstrong number\n"
     ]
    }
   ],
   "source": [
    "# 20.Wap to check the no. is Armstrong no. or not. #153,370\n",
    "num=int(input(\"Enter The int num:\"))\n",
    "a=num\n",
    "p=len(str(num))\n",
    "arm=0\n",
    "while num>0:\n",
    "    digits=num%10\n",
    "    arm+=digits**p\n",
    "    num//=10\n",
    "if arm==a:\n",
    "    print(a,\"is an Armstrong number\")\n",
    "else:\n",
    "    print(a,\"is not an Armstrong number\")"
   ]
  },
  {
   "cell_type": "code",
   "execution_count": 52,
   "id": "72f2ba1f",
   "metadata": {},
   "outputs": [
    {
     "name": "stdout",
     "output_type": "stream",
     "text": [
      "135 is a disarium number\n"
     ]
    }
   ],
   "source": [
    "# 21.Wap to check the no. disarium no. or not. #89,135,175\n",
    "\n",
    "n=int(input(\"enter the num: \"))\n",
    "sum=0\n",
    "a=n\n",
    "while n>0:\n",
    "    ld=n%10\n",
    "    p=len(str(n))\n",
    "    sum+=ld**p\n",
    "    n//=10\n",
    "if sum==a:\n",
    "    print(a,\"is a disarium number\")\n",
    "else:   \n",
    "    print(a,\"is not a disarium number\")"
   ]
  },
  {
   "cell_type": "code",
   "execution_count": 1,
   "id": "dd946f5b",
   "metadata": {},
   "outputs": [
    {
     "name": "stdout",
     "output_type": "stream",
     "text": [
      "81 is a Harshad number\n"
     ]
    }
   ],
   "source": [
    "# 22.Wap to check the given number is a Harshad no. or not #36,18,132\n",
    "\n",
    "n=int(input(\"enter the num: \"))\n",
    "a=n\n",
    "sum=0\n",
    "while n>0:\n",
    "    ld=n%10\n",
    "    sum+=ld\n",
    "    n//=10\n",
    "if a%sum==0:\n",
    "    print(a,\"is a Harshad number\")\n",
    "else:\n",
    "    print(a,\"is not a Harshad number\")"
   ]
  },
  {
   "cell_type": "code",
   "execution_count": 56,
   "id": "742f59fa",
   "metadata": {},
   "outputs": [
    {
     "name": "stdout",
     "output_type": "stream",
     "text": [
      "22 is a spy number\n"
     ]
    }
   ],
   "source": [
    "# 23.Check the given no.is spy number or not. #1124,123,22\n",
    "\n",
    "n=int(input(\"enter the num: \"))\n",
    "a=n\n",
    "sum=0\n",
    "pro=1\n",
    "while n>0:\n",
    "    ld=n%10\n",
    "    sum+=ld\n",
    "    pro*=ld\n",
    "    n//=10\n",
    "if sum==pro:\n",
    "    print(a,\"is a spy number\")\n",
    "else:\n",
    "    print(a,\"is not a spy number\")"
   ]
  },
  {
   "cell_type": "code",
   "execution_count": 64,
   "id": "4de87ef0",
   "metadata": {},
   "outputs": [
    {
     "name": "stdout",
     "output_type": "stream",
     "text": [
      "28 is a perfect number\n"
     ]
    }
   ],
   "source": [
    "# 24.Wap to check the no. is perfect no. or not\n",
    "n=int(input(\"Enter The int num:\"))\n",
    "sum=0\n",
    "i=1\n",
    "while i<n:\n",
    "    if n%i==0:\n",
    "        sum+=i\n",
    "    i+=1\n",
    "\n",
    "if sum==n:\n",
    "    print(n,\"is a perfect number\")\n",
    "else:\n",
    "    print(n,\"is not a perfect number\")\n"
   ]
  },
  {
   "cell_type": "code",
   "execution_count": 65,
   "id": "7d39af6c",
   "metadata": {},
   "outputs": [
    {
     "name": "stdout",
     "output_type": "stream",
     "text": [
      "145 is a strong number\n"
     ]
    }
   ],
   "source": [
    "# 25.Wap to check the no. is a strong no. or not.\n",
    "n=int(input(\"Enter The int num:\"))\n",
    "sum=0\n",
    "a=n\n",
    "while n>0:\n",
    "    ld=n%10\n",
    "    fact=1\n",
    "    while ld>0:\n",
    "        fact*=ld\n",
    "        ld-=1\n",
    "    sum+=fact\n",
    "    n//=10\n",
    "if sum==a:\n",
    "    print(a,\"is a strong number\")\n",
    "else:\n",
    "    print(a,\"is not a strong number\")\n"
   ]
  },
  {
   "cell_type": "code",
   "execution_count": 11,
   "id": "7446ec19",
   "metadata": {},
   "outputs": [
    {
     "name": "stdout",
     "output_type": "stream",
     "text": [
      "Enter the number :  12348\n"
     ]
    },
    {
     "name": "stdout",
     "output_type": "stream",
     "text": [
      "12348  is Xylem Number.\n"
     ]
    }
   ],
   "source": [
    "# 26.Wap to check is xylem or phloem no.\n",
    "\n",
    "num=int(input(\"Enter the number : \"))\n",
    "n=num\n",
    "\n",
    "mean_sum=0\n",
    "ld=n%10\n",
    "while n>0:\n",
    "    digit=n%10\n",
    "    if n%10==0:\n",
    "        first=digit\n",
    "    elif n!=num and n>9:\n",
    "        mean_sum+=digit\n",
    "    n//=10\n",
    "ex_sum=first+ld\n",
    "if mean_sum==ex_sum:\n",
    "    print(num,\" is Xylem Number.\")\n",
    "else:\n",
    "    print(num,\" is Phloem Number.\")\n",
    "    \n",
    "\n"
   ]
  },
  {
   "cell_type": "code",
   "execution_count": 66,
   "id": "c63cc63d",
   "metadata": {},
   "outputs": [
    {
     "name": "stdout",
     "output_type": "stream",
     "text": [
      "The list is: ['hi', 'hello', [1, 2, 3]]\n"
     ]
    }
   ],
   "source": [
    "# 27.Create a list of n no. values provided by the user\n",
    "\n",
    "n=int(input(\"Enter the number of elements in the list:\"))\n",
    "l=[]\n",
    "i=0\n",
    "while i<n:\n",
    "    val=eval(input(\"Enter value:\"))\n",
    "    l.append(val)\n",
    "    i+=1\n",
    "print(\"The list is:\",l)\n"
   ]
  },
  {
   "cell_type": "code",
   "execution_count": null,
   "id": "66355c21",
   "metadata": {},
   "outputs": [
    {
     "name": "stdout",
     "output_type": "stream",
     "text": [
      "Even count is: 3\n",
      "Odd count is: 3\n"
     ]
    }
   ],
   "source": [
    "# 28.Given a list of numbers, count how many are even and how many are odd.\n",
    "n=eval(input(\"Enter the list of numbers:\"))\n",
    "even_count=0\n",
    "odd_count=0\n",
    "if type(n) == list:\n",
    "    i=0\n",
    "    while i<len(n):\n",
    "        if n[i]%2==0:\n",
    "            even_count+=1\n",
    "        else:\n",
    "            odd_count+=1\n",
    "        i=i+1\n",
    "    print(\"Even count is:\",even_count)\n",
    "    print(\"Odd count is:\",odd_count)\n"
   ]
  },
  {
   "cell_type": "code",
   "execution_count": 14,
   "id": "e22d5773",
   "metadata": {},
   "outputs": [
    {
     "name": "stdout",
     "output_type": "stream",
     "text": [
      "Enter the collection : [1,2,4,3]\n"
     ]
    },
    {
     "name": "stdout",
     "output_type": "stream",
     "text": [
      "1 2 4 3 "
     ]
    }
   ],
   "source": [
    "# 29.Wap to print all the values of a collection (str, list, tuple)\n",
    "l=eval(input(\"Enter the collection :\"))\n",
    "i=0\n",
    "while i<len(l):\n",
    "    print(l[i],end=' ')\n",
    "    i+=1\n",
    "\n"
   ]
  },
  {
   "cell_type": "code",
   "execution_count": 12,
   "id": "46d69216",
   "metadata": {},
   "outputs": [
    {
     "name": "stdout",
     "output_type": "stream",
     "text": [
      "hi\n"
     ]
    }
   ],
   "source": [
    "# 30.Wap to print the string values from a given a list\n",
    "st=eval(input(\"Enter the list of elements:\"))\n",
    "if type(st)==list:\n",
    "    i=0\n",
    "    while i<len(st):\n",
    "        if type(st[i])==str:\n",
    "            print(st[i])\n",
    "        i+=1\n",
    "\n"
   ]
  },
  {
   "cell_type": "code",
   "execution_count": null,
   "id": "94bcb06b",
   "metadata": {},
   "outputs": [
    {
     "name": "stdout",
     "output_type": "stream",
     "text": [
      "The palindrome words are: ['eye', 'madam']\n"
     ]
    }
   ],
   "source": [
    "# 31.Wap to extract all the palindrome word from a given list\n",
    "\n",
    "#   s1 = [10,404,'hii',4.5,'eye',7-8j,'bye','madam',202]\n",
    "\n",
    "#   o/p= ['eye', 'madam']\n",
    "\n",
    "s1 = [10,404,'hii',4.5,'eye',7-8j,'bye','madam',202]\n",
    "i=0\n",
    "pw=[]\n",
    "while i<len(s1):\n",
    "    if type(s1[i])==str:\n",
    "        if s1[i]==s1[i][::-1]:\n",
    "            pw.append(s1[i])\n",
    "    i+=1\n",
    "print(\"The palindrome words are:\",pw)\n",
    "\n"
   ]
  },
  {
   "cell_type": "code",
   "execution_count": 12,
   "id": "59565081",
   "metadata": {},
   "outputs": [
    {
     "name": "stdout",
     "output_type": "stream",
     "text": [
      "s t r i n g s "
     ]
    }
   ],
   "source": [
    "# 32.Wap to print all the characters of a string\n",
    "st=input(\"enter the strings :\")\n",
    "i=0\n",
    "while i<len(st):\n",
    "    print(st[i],end=' ')\n",
    "    i+=1\n",
    "\n"
   ]
  },
  {
   "cell_type": "code",
   "execution_count": null,
   "id": "57897aa6",
   "metadata": {},
   "outputs": [],
   "source": [
    "# 33.Wap to print all vowels present in a word\n",
    "word=input(\"Enter the Words :\")\n",
    "i=0\n",
    "while i<len(word):\n",
    "    if word[i] in 'aeiouAEIOU':\n",
    "        print(word[i],end=' ')\n",
    "    i+=1\n",
    "    \n",
    "\n"
   ]
  },
  {
   "cell_type": "code",
   "execution_count": 13,
   "id": "93b674e7",
   "metadata": {},
   "outputs": [
    {
     "name": "stdout",
     "output_type": "stream",
     "text": [
      "The string values in the list are: ['hi', 'hello']\n"
     ]
    }
   ],
   "source": [
    "# 34.Wap to extract all the strings from a list.\n",
    "l=eval(input(\"Enter the list:\"))\n",
    "if type(l)==list:\n",
    "    i=0\n",
    "    sl=[]\n",
    "    while i<len(l):\n",
    "        if type (l[i])==str:\n",
    "            sl.append(l[i])\n",
    "        i+=1\n",
    "print(\"The string values in the list are:\",sl)\n",
    "\n"
   ]
  },
  {
   "cell_type": "code",
   "execution_count": 1,
   "id": "3ec3bdb0",
   "metadata": {},
   "outputs": [
    {
     "name": "stdout",
     "output_type": "stream",
     "text": [
      "Enter the list : [1,22,33]\n"
     ]
    },
    {
     "name": "stdout",
     "output_type": "stream",
     "text": [
      "1\n",
      "22\n",
      "33\n"
     ]
    }
   ],
   "source": [
    "# 35.Wap to extract all the palindrome no. from a list\n",
    "l=eval(input(\"Enter the list :\"))\n",
    "if type(l) == list:\n",
    "    i=0\n",
    "    while i<len(l):\n",
    "        if type (l[i])==int:\n",
    "            a= str(l[i])\n",
    "            if a==a[::-1]:\n",
    "                pe=int(a)\n",
    "                print(pe)\n",
    "                \n",
    "        i+=1\n",
    "\n",
    "\n",
    "\n"
   ]
  },
  {
   "cell_type": "code",
   "execution_count": 26,
   "id": "5340f227",
   "metadata": {},
   "outputs": [
    {
     "name": "stdout",
     "output_type": "stream",
     "text": [
      "Enter the data : [1,2,3]\n"
     ]
    },
    {
     "name": "stdout",
     "output_type": "stream",
     "text": [
      " containing natural odd numbers : (1, 3)\n"
     ]
    }
   ],
   "source": [
    "# 36.Wap to return a tuple containing n natural odd numbers\n",
    "n=eval(input(\"Enter the data :\"))\n",
    "i=0\n",
    "t=[]\n",
    "while i<len(n):\n",
    "    if type(n) == list:\n",
    "        if n[i]%2!=0:\n",
    "            t.append(n[i])\n",
    "    i+=1\n",
    "a=tuple(t)\n",
    "print(\" containing natural odd numbers :\",a)\n",
    "            \n",
    "\n"
   ]
  },
  {
   "cell_type": "code",
   "execution_count": 28,
   "id": "14cd95e4",
   "metadata": {},
   "outputs": [
    {
     "name": "stdout",
     "output_type": "stream",
     "text": [
      "Enter the data : {1,2,3}\n"
     ]
    },
    {
     "name": "stdout",
     "output_type": "stream",
     "text": [
      "1\n",
      "2\n",
      "3\n"
     ]
    }
   ],
   "source": [
    "# 37.Wap to print all the values of a set\n",
    "n=eval(input(\"Enter the data :\"))\n",
    "if type(n) == set:\n",
    "    a=list(n)\n",
    "    i=0\n",
    "    while i<len(a):\n",
    "        print(a[i])\n",
    "        i+=1\n",
    "else:\n",
    "    print(\"Not a set data type\")\n",
    "    \n"
   ]
  },
  {
   "cell_type": "code",
   "execution_count": 30,
   "id": "4ebc71ab",
   "metadata": {},
   "outputs": [
    {
     "name": "stdout",
     "output_type": "stream",
     "text": [
      "Enter the data : {1,2,1.1,21.1,2,3.1}\n"
     ]
    },
    {
     "name": "stdout",
     "output_type": "stream",
     "text": [
      "List : [3.1, 1.1, 21.1]\n"
     ]
    }
   ],
   "source": [
    "# 38.Wap to extract all the float values from a set and store in a list\n",
    "n=eval(input(\"Enter the data :\"))\n",
    "l=[]\n",
    "if type(n)== set:\n",
    "    a=list(n)\n",
    "    i=0\n",
    "    while i<len(a):\n",
    "        if type(a[i])==float:\n",
    "            l.append(a[i])\n",
    "        i+=1\n",
    "else:\n",
    "    print(\"This is not set.\")\n",
    "print(\"List :\",l)\n",
    "\n"
   ]
  },
  {
   "cell_type": "code",
   "execution_count": 40,
   "id": "63e51358",
   "metadata": {},
   "outputs": [
    {
     "name": "stdout",
     "output_type": "stream",
     "text": [
      "Enter the string :  StRi\n"
     ]
    },
    {
     "name": "stdout",
     "output_type": "stream",
     "text": [
      "Toggle the string: sTrI\n"
     ]
    }
   ],
   "source": [
    "# 39.Wap to toggle the string\n",
    "st = input(\"Enter the string : \")\n",
    "i = 0\n",
    "result = \"\"\n",
    "while i < len(st):\n",
    "    if st[i].isupper():\n",
    "        result += st[i].lower()\n",
    "    else:\n",
    "        result += st[i].upper()\n",
    "    i += 1\n",
    "\n",
    "print(\"Toggle the string:\", result)\n",
    "\n",
    "\n"
   ]
  },
  {
   "cell_type": "code",
   "execution_count": 34,
   "id": "43a4ac8a",
   "metadata": {},
   "outputs": [
    {
     "name": "stdout",
     "output_type": "stream",
     "text": [
      "Enter the word: star\n"
     ]
    },
    {
     "name": "stdout",
     "output_type": "stream",
     "text": [
      "Reversed word: rats\n"
     ]
    }
   ],
   "source": [
    "# 40.Wap to reverse the given word\n",
    "st=input(\"Enter the word:\")\n",
    "rev=\"\"\n",
    "i=0\n",
    "while i<len(st):\n",
    "    rev=st[i]+rev\n",
    "    i+=1\n",
    "print(\"Reversed word:\",rev)"
   ]
  },
  {
   "cell_type": "markdown",
   "id": "fc3f4271-5192-4e5e-a921-4cd09a768ca9",
   "metadata": {},
   "source": [
    "\n",
    "Nested loop :-"
   ]
  },
  {
   "cell_type": "code",
   "execution_count": 1,
   "id": "6c8b069d",
   "metadata": {},
   "outputs": [
    {
     "name": "stdout",
     "output_type": "stream",
     "text": [
      "Prime numbers are: 2 3 5 11 17 "
     ]
    }
   ],
   "source": [
    "\n",
    "# Wap to extract all the prime numbers from a given list\n",
    "\n",
    "# Prime numbers from a given list\n",
    "lst = [2, 3, 4, 5, 10, 11, 15, 17, 20]\n",
    "\n",
    "i = 0\n",
    "print(\"Prime numbers are: \", end=\"\")\n",
    "\n",
    "while i < len(lst):         \n",
    "    num = lst[i]\n",
    "    j = 2\n",
    "    is_prime = True\n",
    "\n",
    "    if num <= 1:            \n",
    "        is_prime = False\n",
    "    else:\n",
    "        while j < num:      \n",
    "            if num % j == 0:\n",
    "                is_prime = False\n",
    "                break\n",
    "            j += 1\n",
    "\n",
    "    if is_prime:\n",
    "        print(num, end=\" \")\n",
    "    i += 1\n",
    "\n"
   ]
  },
  {
   "cell_type": "code",
   "execution_count": 2,
   "id": "e6faeb7a-99b0-4f9d-9a50-847566dfd746",
   "metadata": {},
   "outputs": [
    {
     "name": "stdout",
     "output_type": "stream",
     "text": [
      "\n",
      "Armstrong numbers are: 153 370 371 407 "
     ]
    }
   ],
   "source": [
    "# Wap to extract all the Armstrong number from a given list.\n",
    "\n",
    "# Armstrong numbers from a given list\n",
    "lst = [153, 370, 371, 407, 100, 200, 123]\n",
    "\n",
    "i = 0\n",
    "print(\"\\nArmstrong numbers are: \", end=\"\")\n",
    "\n",
    "while i < len(lst):\n",
    "    num = lst[i]\n",
    "    temp = num\n",
    "    sum_of_cubes = 0\n",
    "\n",
    "    while temp > 0:                     \n",
    "        digit = temp % 10\n",
    "        sum_of_cubes += digit ** 3\n",
    "        temp //= 10\n",
    "\n",
    "    if sum_of_cubes == num:             \n",
    "        print(num, end=\" \")\n",
    "    i += 1\n",
    "\n"
   ]
  },
  {
   "cell_type": "code",
   "execution_count": 3,
   "id": "49a5eafd-e53b-48c2-a239-43cb6d0237d1",
   "metadata": {},
   "outputs": [
    {
     "name": "stdout",
     "output_type": "stream",
     "text": [
      "\n",
      "Perfect numbers are: 6 28 496 "
     ]
    }
   ],
   "source": [
    "# Wap to extract all the perfect numbers from a tuple\n",
    "\n",
    "# Perfect numbers from a tuple\n",
    "tpl = (6, 28, 10, 15, 496, 12)\n",
    "\n",
    "i = 0\n",
    "print(\"\\nPerfect numbers are: \", end=\"\")\n",
    "\n",
    "while i < len(tpl):\n",
    "    num = tpl[i]\n",
    "    j = 1\n",
    "    divisor_sum = 0\n",
    "\n",
    "    while j < num:             \n",
    "        if num % j == 0:\n",
    "            divisor_sum += j\n",
    "        j += 1\n",
    "\n",
    "    if divisor_sum == num:\n",
    "        print(num, end=\" \")\n",
    "    i += 1\n",
    "\n"
   ]
  },
  {
   "cell_type": "code",
   "execution_count": 10,
   "id": "d1ce4b04-0fc8-46a6-8b62-6d15e8e63264",
   "metadata": {},
   "outputs": [
    {
     "name": "stdout",
     "output_type": "stream",
     "text": [
      "\n",
      "Xylem numbers are: 1201 "
     ]
    }
   ],
   "source": [
    "# Wap to extract the xylem numbers from a list\n",
    "\n",
    "# Xylem numbers from a list\n",
    "lst = [1201, 1251, 12321, 131, 452]\n",
    "\n",
    "i = 0\n",
    "print(\"\\nXylem numbers are: \", end=\"\")\n",
    "\n",
    "while i < len(lst):\n",
    "    num = lst[i]\n",
    "    temp = num\n",
    "\n",
    "    last = temp % 10\n",
    "    first = 0\n",
    "    mid_sum = 0\n",
    "\n",
    "    while temp > 0:                  # extract digits\n",
    "        digit = temp % 10\n",
    "        if temp == num:              # last digit already stored\n",
    "            pass\n",
    "        elif temp < 10:              # when only one digit left → first digit\n",
    "            first = digit\n",
    "        else:                        # middle digits\n",
    "            mid_sum += digit\n",
    "        temp //= 10\n",
    "\n",
    "    if first + last == mid_sum:\n",
    "        print(num, end=\" \")\n",
    "    \n",
    "    i += 1\n"
   ]
  },
  {
   "cell_type": "code",
   "execution_count": null,
   "id": "61d4e7f9",
   "metadata": {},
   "outputs": [],
   "source": []
  },
  {
   "cell_type": "code",
   "execution_count": 3,
   "id": "b3b37997",
   "metadata": {},
   "outputs": [
    {
     "name": "stdout",
     "output_type": "stream",
     "text": [
      "Sum: 12\n",
      "Product: 15\n"
     ]
    }
   ],
   "source": [
    "n=int(input(\"Enter :\"))\n",
    "sum=0\n",
    "pro=1\n",
    "while n>0:\n",
    "    ld=n%10\n",
    "    if ld%2==0:\n",
    "        sum+=ld\n",
    "    else:\n",
    "        pro*=ld\n",
    "    n//=10\n",
    "print(\"Sum:\",sum)\n",
    "print(\"Product:\",pro)"
   ]
  },
  {
   "cell_type": "code",
   "execution_count": 5,
   "id": "b391ab68",
   "metadata": {},
   "outputs": [
    {
     "name": "stdout",
     "output_type": "stream",
     "text": [
      "Product: 24\n"
     ]
    }
   ],
   "source": [
    "n=int(input(\"Enter :\"))\n",
    "\n",
    "pro=1\n",
    "while n>0:\n",
    "    ld=n%10\n",
    "    if ld<5:\n",
    "        pro*=ld\n",
    "    n//=10\n",
    "\n",
    "print(\"Product:\",pro)"
   ]
  },
  {
   "cell_type": "code",
   "execution_count": 2,
   "id": "033743b6",
   "metadata": {},
   "outputs": [
    {
     "name": "stdout",
     "output_type": "stream",
     "text": [
      "even count: 1\n"
     ]
    }
   ],
   "source": [
    "n=int(input(\"Enter :\"))\n",
    "\n",
    "ocount=0\n",
    "ecount=0\n",
    "while n>0:\n",
    "    ld=n%10\n",
    "    if ld%2==0:\n",
    "        ecount+=1\n",
    "    n//=10\n",
    "\n",
    "print(\"even count:\",ecount)"
   ]
  },
  {
   "cell_type": "code",
   "execution_count": 1,
   "id": "f462bdbc",
   "metadata": {},
   "outputs": [
    {
     "name": "stdout",
     "output_type": "stream",
     "text": [
      "['hi', 'hello']\n"
     ]
    }
   ],
   "source": [
    "l=eval(input(\"Enter the list:\"))\n",
    "i=0\n",
    "l1=[]\n",
    "while i<len(l):\n",
    "    if type(l[i])==str:\n",
    "        l1.append(l[i])\n",
    "    i+=1\n",
    "print(l1)\n"
   ]
  },
  {
   "cell_type": "code",
   "execution_count": 1,
   "id": "03b53b15",
   "metadata": {},
   "outputs": [],
   "source": [
    "#Nested loop"
   ]
  },
  {
   "cell_type": "code",
   "execution_count": 7,
   "id": "0ea672a5",
   "metadata": {},
   "outputs": [
    {
     "name": "stdout",
     "output_type": "stream",
     "text": [
      "1\n",
      "1\n",
      "2\n",
      "3\n",
      "2\n",
      "1\n",
      "2\n",
      "3\n",
      "3\n",
      "1\n",
      "2\n",
      "3\n"
     ]
    }
   ],
   "source": [
    "n=3\n",
    "i=1\n",
    "while i<=n:\n",
    "    print(i)\n",
    "    j=1\n",
    "    while j<=n:\n",
    "        print(j)\n",
    "        j+=1\n",
    "    \n",
    "    i+=1\n"
   ]
  },
  {
   "cell_type": "code",
   "execution_count": 9,
   "id": "a6e48a97",
   "metadata": {},
   "outputs": [
    {
     "name": "stdout",
     "output_type": "stream",
     "text": [
      "Factorial of 1 is 1\n",
      "Factorial of 2 is 2\n",
      "Factorial of 3 is 6\n",
      "Factorial of 4 is 24\n",
      "Factorial of 5 is 120\n"
     ]
    }
   ],
   "source": [
    "n=int(input(\"Enter the num: \"))\n",
    "i=1\n",
    "while i<=n:\n",
    "    fact=1\n",
    "    j=1\n",
    "    while j<=i:\n",
    "        fact=fact*j\n",
    "        j+=1\n",
    "    print(f\"Factorial of {i} is {fact}\")\n",
    "    i+=1"
   ]
  },
  {
   "cell_type": "code",
   "execution_count": null,
   "id": "c1e8fb29",
   "metadata": {},
   "outputs": [
    {
     "name": "stdout",
     "output_type": "stream",
     "text": [
      "h\n",
      "i\n",
      "b\n",
      "y\n",
      "e\n"
     ]
    }
   ],
   "source": [
    "l=[10,'hi','bye']\n",
    "i=0\n",
    "while i<len(l):\n",
    "    if type(l[i])==str:\n",
    "        j=0\n",
    "        while j<len(l[i]):\n",
    "            print(l[i][j])\n",
    "            j+=1\n",
    "    i+=1"
   ]
  },
  {
   "cell_type": "code",
   "execution_count": 2,
   "id": "79e4945e",
   "metadata": {},
   "outputs": [
    {
     "name": "stdout",
     "output_type": "stream",
     "text": [
      "4\n",
      "3\n",
      "2\n",
      "1\n"
     ]
    }
   ],
   "source": [
    "n=int(input(\"Enter the Number : \"))\n",
    "for i in range(n,0,-1):\n",
    "    print(i)"
   ]
  },
  {
   "cell_type": "code",
   "execution_count": 4,
   "id": "80d3525b",
   "metadata": {},
   "outputs": [
    {
     "name": "stdout",
     "output_type": "stream",
     "text": [
      "5 x 1 = 5\n",
      "5 x 2 = 10\n",
      "5 x 3 = 15\n",
      "5 x 4 = 20\n",
      "5 x 5 = 25\n",
      "5 x 6 = 30\n",
      "5 x 7 = 35\n",
      "5 x 8 = 40\n",
      "5 x 9 = 45\n",
      "5 x 10 = 50\n"
     ]
    }
   ],
   "source": [
    "n=int(input(\"Enter the Number : \"))\n",
    "for i in range(1,11):\n",
    "    print(n,\"x\",i,\"=\",n*i)"
   ]
  },
  {
   "cell_type": "code",
   "execution_count": 7,
   "id": "10ece49d",
   "metadata": {},
   "outputs": [
    {
     "name": "stdout",
     "output_type": "stream",
     "text": [
      "Sum of n natural num: 6\n",
      "Mul of n natural num: 6\n"
     ]
    }
   ],
   "source": [
    "n=int(input(\"Enter the Number : \"))\n",
    "sum=0\n",
    "pro=1\n",
    "for i in range(1,n+1):\n",
    "    sum+=i\n",
    "    pro*=i\n",
    "print(\"Sum of n natural num:\",sum)\n",
    "print(\"Mul of n natural num:\",pro)"
   ]
  },
  {
   "cell_type": "code",
   "execution_count": 11,
   "id": "62206877",
   "metadata": {},
   "outputs": [
    {
     "name": "stdout",
     "output_type": "stream",
     "text": [
      "olleh,eyb,"
     ]
    }
   ],
   "source": [
    "l=[10,2.3,'hello',[9.9,8.8],'bye']\n",
    "for i in l:\n",
    "    if type(i)==str:\n",
    "        a=i[::-1]\n",
    "        print(a,end=\",\")"
   ]
  },
  {
   "cell_type": "code",
   "execution_count": null,
   "id": "58a966de",
   "metadata": {},
   "outputs": [],
   "source": []
  }
 ],
 "metadata": {
  "kernelspec": {
   "display_name": "Python 3",
   "language": "python",
   "name": "python3"
  },
  "language_info": {
   "codemirror_mode": {
    "name": "ipython",
    "version": 3
   },
   "file_extension": ".py",
   "mimetype": "text/x-python",
   "name": "python",
   "nbconvert_exporter": "python",
   "pygments_lexer": "ipython3",
   "version": "3.13.1"
  }
 },
 "nbformat": 4,
 "nbformat_minor": 5
}
